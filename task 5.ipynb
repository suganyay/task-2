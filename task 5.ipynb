{
 "cells": [
  {
   "cell_type": "code",
   "execution_count": 1,
   "metadata": {},
   "outputs": [
    {
     "name": "stdout",
     "output_type": "stream",
     "text": [
      "[10, 501, 22, 37, 100, 999, 87, 351]\n"
     ]
    }
   ],
   "source": [
    "#1.expected output\n",
    "data=[10,501,22,37,100,999,87,351]\n",
    "result=filter(lambda x:x>4,data)\n",
    "print(list(result))\n"
   ]
  },
  {
   "cell_type": "code",
   "execution_count": 4,
   "metadata": {},
   "outputs": [
    {
     "name": "stdout",
     "output_type": "stream",
     "text": [
      "['integer', 'string', 'integer', 'integer', 'string', 'integer']\n"
     ]
    }
   ],
   "source": [
    "#2.check integer or string\n",
    "a=[2,\"python\",6,4,\"selenium\",10]\n",
    "b=list(map(lambda x:\"integer\" if isinstance(x,int) else \"string\",a))\n",
    "print(b)"
   ]
  },
  {
   "cell_type": "code",
   "execution_count": 10,
   "metadata": {},
   "outputs": [
    {
     "name": "stdout",
     "output_type": "stream",
     "text": [
      "Fibonacci series: [0, 1, 1, 2, 3, 5, 8, 13, 21, 34, 55, 89, 144, 233, 377, 610, 987, 1597, 2584, 4181]\n"
     ]
    }
   ],
   "source": [
    "#3.fibonacci series\n",
    "from functools import reduce\n",
    "\n",
    "# Function to generate Fibonacci series using lambda \n",
    "fibonacci = lambda n: reduce(lambda x,_: x + [x[-1] + x[-2]], range(n - 2), [0, 1])\n",
    "# Input the number of terms\n",
    "n =int(input(\"Enter the number of terms: \"))\n",
    "\n",
    "# Check if the input is valid\n",
    "if n <= 0:\n",
    "    print(\"Please enter a positive integer.\")\n",
    "elif n == 1:\n",
    "    print(\"Fibonacci series:\", [0])\n",
    "else:\n",
    "    print(\"Fibonacci series:\", fibonacci(n))"
   ]
  },
  {
   "cell_type": "code",
   "execution_count": null,
   "metadata": {},
   "outputs": [],
   "source": [
    "#4."
   ]
  }
 ],
 "metadata": {
  "kernelspec": {
   "display_name": "Python 3",
   "language": "python",
   "name": "python3"
  },
  "language_info": {
   "codemirror_mode": {
    "name": "ipython",
    "version": 3
   },
   "file_extension": ".py",
   "mimetype": "text/x-python",
   "name": "python",
   "nbconvert_exporter": "python",
   "pygments_lexer": "ipython3",
   "version": "3.12.6"
  }
 },
 "nbformat": 4,
 "nbformat_minor": 2
}
