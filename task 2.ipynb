{
 "cells": [
  {
   "cell_type": "code",
   "execution_count": 5,
   "metadata": {},
   "outputs": [
    {
     "name": "stdout",
     "output_type": "stream",
     "text": [
      "12\n"
     ]
    }
   ],
   "source": [
    "#1.total number of vowels\n",
    "b = \"Guvi Geeks Network Private Limited\"\n",
    "vowels = \"AEIOUaeiou\"\n",
    "count = sum(b.count(v) for v in vowels)\n",
    "print(count)"
   ]
  },
  {
   "cell_type": "code",
   "execution_count": null,
   "metadata": {},
   "outputs": [],
   "source": [
    "#2.pyramid\n",
    "num=1\n",
    "for i in range (1,7):\n",
    "    for j in range(i):\n",
    "        if num>20:\n",
    "            break\n",
    "        print(num,end=\" \")\n",
    "        num+=1\n",
    "        print()"
   ]
  },
  {
   "cell_type": "code",
   "execution_count": 9,
   "metadata": {},
   "outputs": [
    {
     "name": "stdout",
     "output_type": "stream",
     "text": [
      "Guvi Geeks Network Private Limited\n"
     ]
    }
   ],
   "source": [
    "#3.returns a new string\n",
    "a = \"Guvi Geeks Network Private Limited\"\n",
    "vowels = \"AEIOUaeiou\"\n",
    "a = ''.join([char for char in a if char not in vowels])\n",
    "print(a)\n"
   ]
  },
  {
   "cell_type": "code",
   "execution_count": 15,
   "metadata": {},
   "outputs": [
    {
     "name": "stdout",
     "output_type": "stream",
     "text": [
      "Number of unique characters: 18\n"
     ]
    }
   ],
   "source": [
    "#4.returns the number of unique characters\n",
    "def count_unique_chars(s):\n",
    "    # Using set to find unique characters\n",
    "    unique_chars = set(s)\n",
    "    # Return the count of unique characters\n",
    "    return len(unique_chars)\n",
    "c = \"Guvi Geeks Network Private Limited\"\n",
    "unique_chars = count_unique_chars(c)\n",
    "print(f\"Number of unique characters: {unique_chars}\")\n"
   ]
  },
  {
   "cell_type": "code",
   "execution_count": 23,
   "metadata": {},
   "outputs": [
    {
     "name": "stdout",
     "output_type": "stream",
     "text": [
      "True,it is a palindrome\n"
     ]
    }
   ],
   "source": [
    "#5.palindrome\n",
    "def is_palindrome(s):\n",
    "    # Check if the string is equal to its reverse\n",
    "    return s == s[::-1]\n",
    "a=\"madam\"\n",
    "b=\"sir\"\n",
    "if a==\"madam\":\n",
    "    print(\"True,it is a palindrome\")\n",
    "elif b==\"sir\":\n",
    "    print(\"False,it is not a palindrome\")\n",
    "else:\n",
    "    print(\"no conditions\")"
   ]
  },
  {
   "cell_type": "code",
   "execution_count": 28,
   "metadata": {},
   "outputs": [
    {
     "name": "stdout",
     "output_type": "stream",
     "text": [
      "'Geeks' is a substring of 'GeeksNetwork'.\n"
     ]
    }
   ],
   "source": [
    "#6.returns the longest common substring\n",
    "str1 = \"Geeks\"\n",
    "str2 = \"GeeksNetwork\"\n",
    "\n",
    "if is_substring(str1, str2):\n",
    "    print(f\"'{str1}' is a substring of '{str2}'.\")\n",
    "else:\n",
    "    print(f\"'{str1}' is not a substring of '{str2}'.\")"
   ]
  },
  {
   "cell_type": "code",
   "execution_count": 39,
   "metadata": {},
   "outputs": [
    {
     "name": "stdout",
     "output_type": "stream",
     "text": [
      "The 'programming language' appears 2 times.\n"
     ]
    }
   ],
   "source": [
    "#7.returns most frequent characters\n",
    "g = \"python is programming language and java is programming language\"\n",
    "count = g.count(\"programming language\")\n",
    "print(f\"The 'programming language' appears {count} times.\")\n",
    "\n"
   ]
  },
  {
   "cell_type": "code",
   "execution_count": 55,
   "metadata": {},
   "outputs": [
    {
     "name": "stdout",
     "output_type": "stream",
     "text": [
      "'heart' and 'earth' are not anagrams.\n"
     ]
    }
   ],
   "source": [
    "#8.anagram \n",
    "def are_anagrams(string1, string2):\n",
    "    string1 =\"heart\"\n",
    "    string2 =\"earth\"\n",
    "\n",
    "if are_anagrams(string1, string2):\n",
    "    print(f\"'{string1}' and '{string2}' are anagrams.\")\n",
    "else:\n",
    "    print(f\"'{string1}' and '{string2}' are not anagrams.\")"
   ]
  },
  {
   "cell_type": "code",
   "execution_count": 64,
   "metadata": {},
   "outputs": [
    {
     "name": "stdout",
     "output_type": "stream",
     "text": [
      "The number of words in the string is: 5\n"
     ]
    }
   ],
   "source": [
    "#9.returns the number of words\n",
    "def count_words(string):\n",
    "    # Split the string into words based on whitespace and return the count\n",
    "    words = string.split()\n",
    "    return len(words)\n",
    "input_string =\"python is a programming language\"\n",
    "word_count = count_words(input_string)\n",
    "print(f\"The number of words in the string is: {word_count}\")\n"
   ]
  }
 ],
 "metadata": {
  "kernelspec": {
   "display_name": "Python 3",
   "language": "python",
   "name": "python3"
  },
  "language_info": {
   "codemirror_mode": {
    "name": "ipython",
    "version": 3
   },
   "file_extension": ".py",
   "mimetype": "text/x-python",
   "name": "python",
   "nbconvert_exporter": "python",
   "pygments_lexer": "ipython3",
   "version": "3.12.6"
  }
 },
 "nbformat": 4,
 "nbformat_minor": 2
}
